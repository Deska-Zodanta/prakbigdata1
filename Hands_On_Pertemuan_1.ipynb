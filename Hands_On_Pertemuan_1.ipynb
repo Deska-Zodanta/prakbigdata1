{
  "cells": [
    {
      "cell_type": "markdown",
      "id": "10c25d6f",
      "metadata": {
        "id": "10c25d6f"
      },
      "source": [
        "# Hands-On Pertemuan 1: Pengenalan Big Data dan Overview Teknologi"
      ]
    },
    {
      "cell_type": "markdown",
      "id": "7117dfdb",
      "metadata": {
        "id": "7117dfdb"
      },
      "source": [
        "## Tujuan\n",
        "Pada akhir praktikum ini, mahasiswa diharapkan mampu:\n",
        "1. Memahami konsep dasar Big Data.\n",
        "2. Menjelaskan karakteristik dan tantangan Big Data (Volume, Variety, Velocity, dan Veracity).\n",
        "3. Mengenal teknologi yang digunakan dalam ekosistem Big Data.\n",
        "4. Menginstal dan mengonfigurasi Anaconda untuk bekerja dengan alat Big Data seperti Hadoop dan Spark.\n",
        "5. Memulai praktik sederhana terkait pengolahan data menggunakan PySpark dan Pandas."
      ]
    },
    {
      "cell_type": "markdown",
      "id": "7e805141",
      "metadata": {
        "id": "7e805141"
      },
      "source": [
        "## Peralatan yang Dibutuhkan\n",
        "1. Anaconda (untuk manajemen lingkungan)\n",
        "2. Jupyter Notebook (bawaan dari Anaconda)\n",
        "3. PySpark (untuk pemrosesan data skala besar)\n",
        "4. Pandas (untuk data analysis)\n",
        "5. Python (bawaan dari Anaconda)"
      ]
    },
    {
      "cell_type": "code",
      "execution_count": null,
      "id": "3xmH7-KgH-TH",
      "metadata": {
        "id": "3xmH7-KgH-TH"
      },
      "outputs": [],
      "source": []
    },
    {
      "cell_type": "markdown",
      "id": "8daa78a0",
      "metadata": {
        "id": "8daa78a0"
      },
      "source": [
        "## Langkah-Langkah Hands-On"
      ]
    },
    {
      "cell_type": "markdown",
      "id": "23b963c0",
      "metadata": {
        "id": "23b963c0"
      },
      "source": [
        "### 1. Instalasi Anaconda\n",
        "- **Langkah 1: Unduh dan Instal Anaconda**\n",
        "  Anaconda adalah platform distribusi Python yang menyertakan berbagai alat pengembangan, termasuk Jupyter Notebook. Ikuti langkah-langkah instalasi sesuai sistem operasi:\n",
        "  - Unduh Anaconda: [Download Anaconda](https://www.anaconda.com/products/individual)\n",
        "  - Instal sesuai instruksi yang ada di situs web tersebut (Windows/Mac/Linux).\n",
        "\n",
        "- **Langkah 2: Menginstal PySpark di Anaconda**\n",
        "  Setelah Anaconda terinstal, tambahkan PySpark:\n",
        "  ```bash\n",
        "  pip install pyspark==3.4.1\n",
        "  ```\n",
        "\n",
        "- **Langkah 3: Menginstal Pandas**\n",
        "  Untuk memudahkan data analysis, install Pandas:\n",
        "  ```bash\n",
        "  pip install pandas\n",
        "  ```\n",
        "\n",
        "- **Langkah 4: Menginstal Findspark**\n",
        "  ```bash\n",
        "  pip install findspark\n",
        "  ```"
      ]
    },
    {
      "cell_type": "markdown",
      "id": "208f1a45",
      "metadata": {
        "id": "208f1a45",
        "jp-MarkdownHeadingCollapsed": true
      },
      "source": [
        "### 2. Pengenalan dan Praktik Dasar PySpark dan Pandas\n",
        "- **Langkah 1: Membuka Jupyter Notebook**\n",
        "  Setelah instalasi selesai, buka Jupyter Notebook melalui Anaconda Navigator atau melalui terminal dengan perintah:\n",
        "  ```bash\n",
        "  jupyter notebook\n",
        "  ```\n",
        "\n",
        "- **Langkah 2: Membuat Project Notebook Baru**\n",
        "  Di Jupyter Notebook, buat notebook baru untuk praktikum ini.\n",
        "\n",
        "- **Langkah 3: Praktik dengan PySpark**\n",
        "  Buat program sederhana untuk memulai dengan PySpark. Gunakan PySpark untuk membuat DataFrame dan memanipulasi data sederhana:"
      ]
    },
    {
      "cell_type": "code",
      "execution_count": 1,
      "id": "KERSZShIH_aN",
      "metadata": {
        "id": "KERSZShIH_aN"
      },
      "outputs": [],
      "source": [
        "import findspark\n",
        "findspark.init()"
      ]
    },
    {
      "cell_type": "code",
      "execution_count": 2,
      "id": "f78a5053",
      "metadata": {
        "id": "f78a5053"
      },
      "outputs": [
        {
          "name": "stdout",
          "output_type": "stream",
          "text": [
            "+-----+----+\n",
            "| Nama|Usia|\n",
            "+-----+----+\n",
            "|  Ali|  34|\n",
            "| Budi|  23|\n",
            "|Citra|  29|\n",
            "| Dina|  45|\n",
            "+-----+----+\n",
            "\n"
          ]
        }
      ],
      "source": [
        "from pyspark.sql import SparkSession\n",
        "\n",
        "# Memulai Spark session\n",
        "spark = SparkSession.builder.appName(\"BigDataPractice\").getOrCreate()\n",
        "\n",
        "# Membuat DataFrame sederhana\n",
        "data = [(\"Ali\", 34), (\"Budi\", 23), (\"Citra\", 29), (\"Dina\", 45)]\n",
        "columns = [\"Nama\", \"Usia\"]\n",
        "df = spark.createDataFrame(data, columns)\n",
        "\n",
        "# Menampilkan DataFrame\n",
        "df.show()\n"
      ]
    },
    {
      "cell_type": "markdown",
      "id": "8747276f",
      "metadata": {
        "id": "8747276f"
      },
      "source": [
        "- **Tugas 1**: Jalankan kode di atas dan buat modifikasi dengan menambahkan data lain berupa kolom pekerjaan, hobi dan gender."
      ]
    },
    {
      "cell_type": "code",
      "execution_count": 3,
      "id": "4b7838d2",
      "metadata": {},
      "outputs": [
        {
          "name": "stdout",
          "output_type": "stream",
          "text": [
            "+-----+----+-----------+-------------+------+\n",
            "| Nama|Usia|    profesi|         hobi|gender|\n",
            "+-----+----+-----------+-------------+------+\n",
            "|  Ali|  34|      sopir|        tenis|     L|\n",
            "| Budi|  23|olahragawan| bermain bola|     L|\n",
            "|Citra|  29|       kuli|    memancing|     P|\n",
            "| Dina|  45|    arsitek|main layangan|     P|\n",
            "+-----+----+-----------+-------------+------+\n",
            "\n"
          ]
        }
      ],
      "source": [
        "import findspark\n",
        "findspark.init()\n",
        "from pyspark.sql import SparkSession\n",
        "\n",
        "# Memulai Spark session\n",
        "spark = SparkSession.builder.appName(\"BigDataPractice\").getOrCreate()\n",
        "\n",
        "# Membuat DataFrame sederhana\n",
        "data = [(\"Ali\", 34, \"sopir\", \"tenis\",\"L\"), (\"Budi\", 23,\"olahragawan\", \"bermain bola\", \"L\"), (\"Citra\", 29, \"kuli\", \"memancing\", \"P\"), (\"Dina\", 45,\"arsitek\", \"main layangan\", \"P\")]\n",
        "columns = [\"Nama\", \"Usia\",\"profesi\", \"hobi\", \"gender\"]\n",
        "df = spark.createDataFrame(data, columns)\n",
        "\n",
        "# Menampilkan DataFrame\n",
        "df.show()"
      ]
    },
    {
      "cell_type": "markdown",
      "id": "1f84a333",
      "metadata": {
        "id": "1f84a333"
      },
      "source": [
        "### 3. Praktik PySpark Lanjutan\n",
        "- **Latihan 1**: Memanipulasi Data dengan PySpark."
      ]
    },
    {
      "cell_type": "code",
      "execution_count": 4,
      "id": "1f391ed5",
      "metadata": {
        "id": "1f391ed5"
      },
      "outputs": [
        {
          "name": "stdout",
          "output_type": "stream",
          "text": [
            "+-----+----+\n",
            "| Nama|Usia|\n",
            "+-----+----+\n",
            "|  Ali|  34|\n",
            "| Budi|  23|\n",
            "|Citra|  29|\n",
            "| Dina|  45|\n",
            "+-----+----+\n",
            "\n",
            "+----+----+\n",
            "|Nama|Usia|\n",
            "+----+----+\n",
            "| Ali|  34|\n",
            "|Dina|  45|\n",
            "+----+----+\n",
            "\n",
            "+---------+\n",
            "|avg(Usia)|\n",
            "+---------+\n",
            "|    32.75|\n",
            "+---------+\n",
            "\n",
            "+-----+----+\n",
            "| Nama|Usia|\n",
            "+-----+----+\n",
            "| Dina|  45|\n",
            "|  Ali|  34|\n",
            "|Citra|  29|\n",
            "| Budi|  23|\n",
            "+-----+----+\n",
            "\n"
          ]
        }
      ],
      "source": [
        "from pyspark.sql import SparkSession\n",
        "\n",
        "# Memulai Spark session\n",
        "spark = SparkSession.builder.appName(\"BigDataPractice\").getOrCreate()\n",
        "\n",
        "# Membuat DataFrame sederhana\n",
        "data = [(\"Ali\", 34), (\"Budi\", 23), (\"Citra\", 29), (\"Dina\", 45)]\n",
        "columns = [\"Nama\", \"Usia\"]\n",
        "df = spark.createDataFrame(data, columns)\n",
        "\n",
        "# Menampilkan DataFrame\n",
        "df.show()\n",
        "\n",
        "# Filtering data\n",
        "df_filtered = df.filter(df['Usia'] > 30)\n",
        "df_filtered.show()\n",
        "\n",
        "# Menghitung rata-rata usia\n",
        "from pyspark.sql.functions import avg\n",
        "df.groupBy().agg(avg(\"Usia\")).show()\n",
        "\n",
        "# Mengurutkan data berdasarkan usia\n",
        "df_sorted = df.orderBy(\"Usia\", ascending=False)\n",
        "df_sorted.show()\n"
      ]
    },
    {
      "cell_type": "markdown",
      "id": "e06767bc",
      "metadata": {
        "id": "e06767bc"
      },
      "source": [
        "- **Tugas 2**: Lakukan filter, penghitungan rata-rata, dan pengurutan data menggunakan PySpark."
      ]
    },
    {
      "cell_type": "code",
      "execution_count": 5,
      "id": "670d03fc",
      "metadata": {},
      "outputs": [
        {
          "name": "stdout",
          "output_type": "stream",
          "text": [
            "+-----+----+\n",
            "| Nama|Usia|\n",
            "+-----+----+\n",
            "|  Ali|  34|\n",
            "| Budi|  23|\n",
            "|Citra|  29|\n",
            "| Dina|  45|\n",
            "+-----+----+\n",
            "\n",
            "+----+----+\n",
            "|Nama|Usia|\n",
            "+----+----+\n",
            "| Ali|  34|\n",
            "|Dina|  45|\n",
            "+----+----+\n",
            "\n",
            "+---------+\n",
            "|avg(Usia)|\n",
            "+---------+\n",
            "|    32.75|\n",
            "+---------+\n",
            "\n",
            "+-----+----+\n",
            "| Nama|Usia|\n",
            "+-----+----+\n",
            "| Dina|  45|\n",
            "|  Ali|  34|\n",
            "|Citra|  29|\n",
            "| Budi|  23|\n",
            "+-----+----+\n",
            "\n"
          ]
        }
      ],
      "source": [
        "from pyspark.sql import SparkSession\n",
        "\n",
        "# Memulai Spark session\n",
        "spark = SparkSession.builder.appName(\"BigDataPractice\").getOrCreate()\n",
        "\n",
        "# Membuat DataFrame sederhana\n",
        "data = [(\"Ali\", 34), (\"Budi\", 23), (\"Citra\", 29), (\"Dina\", 45)]\n",
        "columns = [\"Nama\", \"Usia\"]\n",
        "df = spark.createDataFrame(data, columns)\n",
        "\n",
        "# Menampilkan DataFrame\n",
        "df.show()\n",
        "\n",
        "# Filtering data\n",
        "df_filtered = df.filter(df['Usia'] > 30)\n",
        "df_filtered.show()\n",
        "\n",
        "# Menghitung rata-rata usia\n",
        "from pyspark.sql.functions import avg\n",
        "df.groupBy().agg(avg(\"Usia\")).show()\n",
        "\n",
        "# Mengurutkan data berdasarkan usia\n",
        "df_sorted = df.orderBy(\"Usia\", ascending=False)\n",
        "df_sorted.show()"
      ]
    },
    {
      "cell_type": "markdown",
      "id": "fe1e34a5",
      "metadata": {
        "id": "fe1e34a5"
      },
      "source": [
        "### 4. Praktik dengan Pandas\n",
        "- **Latihan 2**:  Buat DataFrame menggunakan Pandas:"
      ]
    },
    {
      "cell_type": "code",
      "execution_count": 12,
      "id": "3f1f2ec1",
      "metadata": {
        "id": "3f1f2ec1"
      },
      "outputs": [
        {
          "data": {
            "text/html": [
              "<div>\n",
              "<style scoped>\n",
              "    .dataframe tbody tr th:only-of-type {\n",
              "        vertical-align: middle;\n",
              "    }\n",
              "\n",
              "    .dataframe tbody tr th {\n",
              "        vertical-align: top;\n",
              "    }\n",
              "\n",
              "    .dataframe thead th {\n",
              "        text-align: right;\n",
              "    }\n",
              "</style>\n",
              "<table border=\"1\" class=\"dataframe\">\n",
              "  <thead>\n",
              "    <tr style=\"text-align: right;\">\n",
              "      <th></th>\n",
              "      <th>Nama</th>\n",
              "      <th>Usia</th>\n",
              "    </tr>\n",
              "  </thead>\n",
              "  <tbody>\n",
              "    <tr>\n",
              "      <th>0</th>\n",
              "      <td>Ali</td>\n",
              "      <td>34</td>\n",
              "    </tr>\n",
              "    <tr>\n",
              "      <th>3</th>\n",
              "      <td>Dina</td>\n",
              "      <td>45</td>\n",
              "    </tr>\n",
              "  </tbody>\n",
              "</table>\n",
              "</div>"
            ],
            "text/plain": [
              "   Nama  Usia\n",
              "0   Ali    34\n",
              "3  Dina    45"
            ]
          },
          "execution_count": 12,
          "metadata": {},
          "output_type": "execute_result"
        }
      ],
      "source": [
        "import pandas as pd\n",
        "\n",
        "# Membuat DataFrame Pandas\n",
        "data_pandas = {\"Nama\": [\"Ali\", \"Budi\", \"Citra\", \"Dina\"], \"Usia\": [34, 23, 29, 45]}\n",
        "df_pandas = pd.DataFrame(data_pandas)\n",
        "\n",
        "# Menampilkan DataFrame Pandas\n",
        "dfpan_filtered = df_pandas[df_pandas[\"Usia\"]>30]\n",
        "dfpan_filtered"
      ]
    },
    {
      "cell_type": "code",
      "execution_count": 8,
      "id": "9767e0b7",
      "metadata": {},
      "outputs": [
        {
          "name": "stdout",
          "output_type": "stream",
          "text": [
            "Collecting matplotlibNote: you may need to restart the kernel to use updated packages.\n",
            "\n",
            "  Downloading matplotlib-3.9.2-cp310-cp310-win_amd64.whl.metadata (11 kB)\n",
            "Collecting contourpy>=1.0.1 (from matplotlib)\n",
            "  Downloading contourpy-1.2.1-cp310-cp310-win_amd64.whl.metadata (5.8 kB)\n",
            "Collecting cycler>=0.10 (from matplotlib)\n",
            "  Using cached cycler-0.12.1-py3-none-any.whl.metadata (3.8 kB)\n",
            "Collecting fonttools>=4.22.0 (from matplotlib)\n",
            "  Downloading fonttools-4.53.1-cp310-cp310-win_amd64.whl.metadata (165 kB)\n",
            "Collecting kiwisolver>=1.3.1 (from matplotlib)\n",
            "  Downloading kiwisolver-1.4.5-cp310-cp310-win_amd64.whl.metadata (6.5 kB)\n",
            "Requirement already satisfied: numpy>=1.23 in c:\\users\\asus\\anaconda3\\envs\\bdata\\lib\\site-packages (from matplotlib) (2.1.0)\n",
            "Requirement already satisfied: packaging>=20.0 in c:\\users\\asus\\anaconda3\\envs\\bdata\\lib\\site-packages (from matplotlib) (24.1)\n",
            "Collecting pillow>=8 (from matplotlib)\n",
            "  Downloading pillow-10.4.0-cp310-cp310-win_amd64.whl.metadata (9.3 kB)\n",
            "Collecting pyparsing>=2.3.1 (from matplotlib)\n",
            "  Downloading pyparsing-3.1.4-py3-none-any.whl.metadata (5.1 kB)\n",
            "Requirement already satisfied: python-dateutil>=2.7 in c:\\users\\asus\\anaconda3\\envs\\bdata\\lib\\site-packages (from matplotlib) (2.9.0)\n",
            "Requirement already satisfied: six>=1.5 in c:\\users\\asus\\anaconda3\\envs\\bdata\\lib\\site-packages (from python-dateutil>=2.7->matplotlib) (1.16.0)\n",
            "Downloading matplotlib-3.9.2-cp310-cp310-win_amd64.whl (7.8 MB)\n",
            "   ---------------------------------------- 0.0/7.8 MB ? eta -:--:--\n",
            "   - -------------------------------------- 0.3/7.8 MB ? eta -:--:--\n",
            "   - -------------------------------------- 0.3/7.8 MB ? eta -:--:--\n",
            "   ---- ----------------------------------- 0.8/7.8 MB 1.3 MB/s eta 0:00:06\n",
            "   ----- ---------------------------------- 1.0/7.8 MB 1.2 MB/s eta 0:00:06\n",
            "   ------ --------------------------------- 1.3/7.8 MB 1.2 MB/s eta 0:00:06\n",
            "   ------ --------------------------------- 1.3/7.8 MB 1.2 MB/s eta 0:00:06\n",
            "   --------- ------------------------------ 1.8/7.8 MB 1.2 MB/s eta 0:00:05\n",
            "   --------- ------------------------------ 1.8/7.8 MB 1.2 MB/s eta 0:00:05\n",
            "   ---------- ----------------------------- 2.1/7.8 MB 1.1 MB/s eta 0:00:06\n",
            "   ---------- ----------------------------- 2.1/7.8 MB 1.1 MB/s eta 0:00:06\n",
            "   ------------- -------------------------- 2.6/7.8 MB 1.1 MB/s eta 0:00:05\n",
            "   -------------- ------------------------- 2.9/7.8 MB 1.1 MB/s eta 0:00:05\n",
            "   -------------- ------------------------- 2.9/7.8 MB 1.1 MB/s eta 0:00:05\n",
            "   ---------------- ----------------------- 3.1/7.8 MB 1.1 MB/s eta 0:00:05\n",
            "   ----------------- ---------------------- 3.4/7.8 MB 1.1 MB/s eta 0:00:05\n",
            "   -------------------- ------------------- 3.9/7.8 MB 1.2 MB/s eta 0:00:04\n",
            "   --------------------- ------------------ 4.2/7.8 MB 1.2 MB/s eta 0:00:04\n",
            "   ---------------------- ----------------- 4.5/7.8 MB 1.2 MB/s eta 0:00:03\n",
            "   ------------------------ --------------- 4.7/7.8 MB 1.2 MB/s eta 0:00:03\n",
            "   ------------------------- -------------- 5.0/7.8 MB 1.2 MB/s eta 0:00:03\n",
            "   ------------------------- -------------- 5.0/7.8 MB 1.2 MB/s eta 0:00:03\n",
            "   -------------------------- ------------- 5.2/7.8 MB 1.1 MB/s eta 0:00:03\n",
            "   ---------------------------- ----------- 5.5/7.8 MB 1.1 MB/s eta 0:00:03\n",
            "   ----------------------------- ---------- 5.8/7.8 MB 1.1 MB/s eta 0:00:02\n",
            "   ----------------------------- ---------- 5.8/7.8 MB 1.1 MB/s eta 0:00:02\n",
            "   ----------------------------- ---------- 5.8/7.8 MB 1.1 MB/s eta 0:00:02\n",
            "   ----------------------------- ---------- 5.8/7.8 MB 1.1 MB/s eta 0:00:02\n",
            "   ------------------------------ --------- 6.0/7.8 MB 1.0 MB/s eta 0:00:02\n",
            "   -------------------------------- ------- 6.3/7.8 MB 1.0 MB/s eta 0:00:02\n",
            "   -------------------------------- ------- 6.3/7.8 MB 1.0 MB/s eta 0:00:02\n",
            "   --------------------------------- ------ 6.6/7.8 MB 1.0 MB/s eta 0:00:02\n",
            "   ---------------------------------- ----- 6.8/7.8 MB 1.0 MB/s eta 0:00:01\n",
            "   ------------------------------------ --- 7.1/7.8 MB 1.0 MB/s eta 0:00:01\n",
            "   ------------------------------------ --- 7.1/7.8 MB 1.0 MB/s eta 0:00:01\n",
            "   ------------------------------------- -- 7.3/7.8 MB 982.6 kB/s eta 0:00:01\n",
            "   -------------------------------------- - 7.6/7.8 MB 993.1 kB/s eta 0:00:01\n",
            "   ---------------------------------------- 7.8/7.8 MB 1.0 MB/s eta 0:00:00\n",
            "Downloading contourpy-1.2.1-cp310-cp310-win_amd64.whl (187 kB)\n",
            "Using cached cycler-0.12.1-py3-none-any.whl (8.3 kB)\n",
            "Downloading fonttools-4.53.1-cp310-cp310-win_amd64.whl (2.2 MB)\n",
            "   ---------------------------------------- 0.0/2.2 MB ? eta -:--:--\n",
            "   ---------------------------------------- 0.0/2.2 MB ? eta -:--:--\n",
            "   ---------------------------------------- 0.0/2.2 MB ? eta -:--:--\n",
            "   ---------------------------------------- 0.0/2.2 MB ? eta -:--:--\n",
            "   ---------------------------------------- 0.0/2.2 MB ? eta -:--:--\n",
            "   ---- ----------------------------------- 0.3/2.2 MB ? eta -:--:--\n",
            "   -------------- ------------------------- 0.8/2.2 MB 1.6 MB/s eta 0:00:01\n",
            "   -------------- ------------------------- 0.8/2.2 MB 1.6 MB/s eta 0:00:01\n",
            "   -------------- ------------------------- 0.8/2.2 MB 1.6 MB/s eta 0:00:01\n",
            "   ----------------------- ---------------- 1.3/2.2 MB 1.1 MB/s eta 0:00:01\n",
            "   ---------------------------- ----------- 1.6/2.2 MB 1.1 MB/s eta 0:00:01\n",
            "   -------------------------------------- - 2.1/2.2 MB 1.3 MB/s eta 0:00:01\n",
            "   ---------------------------------------- 2.2/2.2 MB 1.3 MB/s eta 0:00:00\n",
            "Downloading kiwisolver-1.4.5-cp310-cp310-win_amd64.whl (56 kB)\n",
            "Downloading pillow-10.4.0-cp310-cp310-win_amd64.whl (2.6 MB)\n",
            "   ---------------------------------------- 0.0/2.6 MB ? eta -:--:--\n",
            "   ---- ----------------------------------- 0.3/2.6 MB ? eta -:--:--\n",
            "   -------- ------------------------------- 0.5/2.6 MB 1.0 MB/s eta 0:00:02\n",
            "   ------------ --------------------------- 0.8/2.6 MB 1.0 MB/s eta 0:00:02\n",
            "   ---------------- ----------------------- 1.0/2.6 MB 1.2 MB/s eta 0:00:02\n",
            "   ---------------- ----------------------- 1.0/2.6 MB 1.2 MB/s eta 0:00:02\n",
            "   -------------------- ------------------- 1.3/2.6 MB 1.0 MB/s eta 0:00:02\n",
            "   ------------------------ --------------- 1.6/2.6 MB 1.1 MB/s eta 0:00:01\n",
            "   -------------------------------- ------- 2.1/2.6 MB 1.2 MB/s eta 0:00:01\n",
            "   ------------------------------------ --- 2.4/2.6 MB 1.2 MB/s eta 0:00:01\n",
            "   ---------------------------------------- 2.6/2.6 MB 1.3 MB/s eta 0:00:00\n",
            "Downloading pyparsing-3.1.4-py3-none-any.whl (104 kB)\n",
            "Installing collected packages: pyparsing, pillow, kiwisolver, fonttools, cycler, contourpy, matplotlib\n",
            "Successfully installed contourpy-1.2.1 cycler-0.12.1 fonttools-4.53.1 kiwisolver-1.4.5 matplotlib-3.9.2 pillow-10.4.0 pyparsing-3.1.4\n"
          ]
        }
      ],
      "source": [
        "pip install matplotlib"
      ]
    },
    {
      "cell_type": "markdown",
      "id": "9da455f1",
      "metadata": {
        "id": "9da455f1"
      },
      "source": [
        "- **Tugas 3**: Modifikasi DataFrame Pandas dengan menambahkan kolom baru dan melakukan operasi seperti filtering data berdasarkan usia."
      ]
    },
    {
      "cell_type": "code",
      "execution_count": 13,
      "id": "8d9793e7",
      "metadata": {},
      "outputs": [
        {
          "data": {
            "text/html": [
              "<div>\n",
              "<style scoped>\n",
              "    .dataframe tbody tr th:only-of-type {\n",
              "        vertical-align: middle;\n",
              "    }\n",
              "\n",
              "    .dataframe tbody tr th {\n",
              "        vertical-align: top;\n",
              "    }\n",
              "\n",
              "    .dataframe thead th {\n",
              "        text-align: right;\n",
              "    }\n",
              "</style>\n",
              "<table border=\"1\" class=\"dataframe\">\n",
              "  <thead>\n",
              "    <tr style=\"text-align: right;\">\n",
              "      <th></th>\n",
              "      <th>Nama</th>\n",
              "      <th>Usia</th>\n",
              "      <th>Hobi</th>\n",
              "    </tr>\n",
              "  </thead>\n",
              "  <tbody>\n",
              "    <tr>\n",
              "      <th>0</th>\n",
              "      <td>Ali</td>\n",
              "      <td>34</td>\n",
              "      <td>mancing</td>\n",
              "    </tr>\n",
              "    <tr>\n",
              "      <th>3</th>\n",
              "      <td>Dina</td>\n",
              "      <td>45</td>\n",
              "      <td>membaca</td>\n",
              "    </tr>\n",
              "  </tbody>\n",
              "</table>\n",
              "</div>"
            ],
            "text/plain": [
              "   Nama  Usia     Hobi\n",
              "0   Ali    34  mancing\n",
              "3  Dina    45  membaca"
            ]
          },
          "execution_count": 13,
          "metadata": {},
          "output_type": "execute_result"
        }
      ],
      "source": [
        "import pandas as pd\n",
        "\n",
        "# Membuat DataFrame Pandas\n",
        "data_pandas = {\"Nama\": [\"Ali\", \"Budi\", \"Citra\", \"Dina\"], \"Usia\": [34, 23, 29, 45], \"Hobi\" : [\"mancing\", \"tenis\", \"tidur\", \"membaca\"]}\n",
        "df_pandas = pd.DataFrame(data_pandas)\n",
        "\n",
        "# Menampilkan DataFrame Pandas\n",
        "df_pandas\n",
        "#\n",
        "dfpan_filtered = df_pandas[df_pandas[\"Usia\"]>30]\n",
        "dfpan_filtered"
      ]
    },
    {
      "cell_type": "markdown",
      "id": "c0042b2b",
      "metadata": {
        "id": "c0042b2b"
      },
      "source": [
        "### 5. Praktik Pandas Lanjutan\n",
        "- **Latihan 3**: Penggunaan Pandas untuk operasi lebih kompleks."
      ]
    },
    {
      "cell_type": "code",
      "execution_count": 8,
      "id": "e7a8142f",
      "metadata": {
        "id": "e7a8142f"
      },
      "outputs": [
        {
          "name": "stdout",
          "output_type": "stream",
          "text": [
            "    Nama  Usia Pekerjaan\n",
            "0    Ali    34    Dokter\n",
            "1   Budi    23      Guru\n",
            "2  Citra    29  Insinyur\n",
            "3   Dina    45   Perawat\n",
            "            Usia\n",
            "count   4.000000\n",
            "mean   32.750000\n",
            "std     9.322911\n",
            "min    23.000000\n",
            "25%    27.500000\n",
            "50%    31.500000\n",
            "75%    36.750000\n",
            "max    45.000000\n"
          ]
        },
        {
          "data": {
            "image/png": "[encoded data removed]",
            "text/plain": [
              "<Figure size 640x480 with 1 Axes>"
            ]
          },
          "metadata": {},
          "output_type": "display_data"
        }
      ],
      "source": [
        "import pandas as pd\n",
        "\n",
        "# Membuat DataFrame Pandas\n",
        "data_pandas = {\"Nama\": [\"Ali\", \"Budi\", \"Citra\", \"Dina\"], \"Usia\": [34, 23, 29, 45]}\n",
        "df_pandas = pd.DataFrame(data_pandas)\n",
        "\n",
        "# Membuat DataFrame kedua\n",
        "data_pandas_2 = {\"Nama\": [\"Ali\", \"Budi\", \"Citra\", \"Dina\"], \"Pekerjaan\": [\"Dokter\", \"Guru\", \"Insinyur\", \"Perawat\"]}\n",
        "df_pandas_2 = pd.DataFrame(data_pandas_2)\n",
        "\n",
        "# Join antara dua DataFrame\n",
        "df_joined = pd.merge(df_pandas, df_pandas_2, on=\"Nama\")\n",
        "print(df_joined)\n",
        "\n",
        "# Menghitung statistik deskriptif\n",
        "print(df_pandas.describe())\n",
        "\n",
        "# Plotting Data\n",
        "import matplotlib.pyplot as plt\n",
        "df_pandas['Usia'].plot(kind='bar')\n",
        "plt.show()\n"
      ]
    },
    {
      "cell_type": "code",
      "execution_count": 3,
      "id": "1701564b",
      "metadata": {},
      "outputs": [
        {
          "name": "stdout",
          "output_type": "stream",
          "text": [
            "   Nama  Usia Pekerjaan\n",
            "0  Diva    26    Dokter\n",
            "1   Fea    67      Guru\n",
            "2  Tero    90  Insinyur\n",
            "3  Zaky    45   Perawat\n",
            "            Usia\n",
            "count   4.000000\n",
            "mean   57.000000\n",
            "std    27.652607\n",
            "min    26.000000\n",
            "25%    40.250000\n",
            "50%    56.000000\n",
            "75%    72.750000\n",
            "max    90.000000\n"
          ]
        },
        {
          "data": {
            "image/png": "[encoded data removed]",
            "text/plain": [
              "<Figure size 640x480 with 1 Axes>"
            ]
          },
          "metadata": {},
          "output_type": "display_data"
        }
      ],
      "source": [
        "import pandas as pd\n",
        "\n",
        "# Membuat DataFrame Pandas\n",
        "data_pandas = {\"Nama\": [\"Diva\", \"Fea\",\"Tero\", \"Zaky\"], \"Usia\": [26, 67, 90, 45]}\n",
        "df_pandas = pd.DataFrame(data_pandas)\n",
        "\n",
        "# Membuat DataFrame kedua\n",
        "data_pandas_2 = {\"Nama\": [\"Diva\", \"Fea\",\"Tero\", \"Zaky\"], \"Pekerjaan\": [\"Dokter\", \"Guru\", \"Insinyur\", \"Perawat\"]}\n",
        "df_pandas_2 = pd.DataFrame(data_pandas_2)\n",
        "\n",
        "# Join antara dua DataFrame\n",
        "df_joined = pd.merge(df_pandas, df_pandas_2, on=\"Nama\")\n",
        "print(df_joined)\n",
        "\n",
        "# Menghitung statistik deskriptif\n",
        "print(df_pandas.describe())\n",
        "\n",
        "# Plotting Data\n",
        "import matplotlib.pyplot as plt\n",
        "df_pandas['Usia'].plot(kind='bar')\n",
        "plt.show()"
      ]
    },
    {
      "cell_type": "markdown",
      "id": "884ed75d",
      "metadata": {
        "id": "884ed75d"
      },
      "source": [
        "- **Tugas 4**: Lakukan penggabungan DataFrame dan visualisasikan data dengan Pandas."
      ]
    },
    {
      "cell_type": "markdown",
      "id": "bf671ba3",
      "metadata": {
        "id": "bf671ba3"
      },
      "source": [
        "### 5. Menggabungkan PySpark dan Pandas\n",
        "- **Latihan 4: Mengonversi DataFrame antara PySpark dan Pandas**\n",
        "  Praktik untuk convert DataFrame dari PySpark ke Pandas dan sebaliknya:\n"
      ]
    },
    {
      "cell_type": "code",
      "execution_count": 9,
      "id": "337e123f",
      "metadata": {
        "id": "337e123f"
      },
      "outputs": [
        {
          "name": "stdout",
          "output_type": "stream",
          "text": [
            "+-----+----+\n",
            "| Nama|Usia|\n",
            "+-----+----+\n",
            "|  Ali|  34|\n",
            "| Budi|  23|\n",
            "|Citra|  29|\n",
            "| Dina|  45|\n",
            "+-----+----+\n",
            "\n"
          ]
        },
        {
          "data": {
            "text/plain": [
              "(    Nama  Usia\n",
              " 0    Ali    34\n",
              " 1   Budi    23\n",
              " 2  Citra    29\n",
              " 3   Dina    45,\n",
              " None)"
            ]
          },
          "execution_count": 9,
          "metadata": {},
          "output_type": "execute_result"
        }
      ],
      "source": [
        "# Mengonversi DataFrame dari PySpark ke Pandas\n",
        "df_pandas_from_spark = df.toPandas()\n",
        "\n",
        "# Mengonversi DataFrame dari Pandas ke PySpark\n",
        "df_spark_from_pandas = spark.createDataFrame(df_pandas)\n",
        "\n",
        "# Menampilkan DataFrame hasil konversi\n",
        "df_pandas_from_spark, df_spark_from_pandas.show()"
      ]
    },
    {
      "cell_type": "markdown",
      "id": "2cba4e5c",
      "metadata": {
        "id": "2cba4e5c"
      },
      "source": [
        "- **Tugas 5**: Gunakan metode ini untuk menggabungkan data yang Anda buat di PySpark dengan data dari Pandas, kemudian lakukan analisis sederhana seperti menghitung rata-rata usia."
      ]
    },
    {
      "cell_type": "code",
      "execution_count": 28,
      "id": "6d6fa8fc",
      "metadata": {},
      "outputs": [
        {
          "name": "stdout",
          "output_type": "stream",
          "text": [
            "+-----+----+\n",
            "| Nama|Usia|\n",
            "+-----+----+\n",
            "|  Ali|  34|\n",
            "| Budi|  23|\n",
            "|Citra|  29|\n",
            "| Dina|  45|\n",
            "| Diva|  31|\n",
            "|  Fea|  37|\n",
            "+-----+----+\n",
            "\n",
            "+------------------+\n",
            "|         avg(Usia)|\n",
            "+------------------+\n",
            "|33.166666666666664|\n",
            "+------------------+\n",
            "\n"
          ]
        }
      ],
      "source": [
        "import pandas as pd\n",
        "from pyspark.sql import SparkSession\n",
        "\n",
        "# Inisialisasi SparkSession\n",
        "spark = SparkSession.builder.appName(\"BigDataPractice\").getOrCreate()\n",
        "\n",
        "# Data awal menggunakan PySpark\n",
        "data = [(\"Ali\", 34), (\"Budi\", 23), (\"Citra\", 29), (\"Dina\", 45)]\n",
        "columns = [\"Nama\", \"Usia\"]\n",
        "df = spark.createDataFrame(data, columns)\n",
        "\n",
        "# Data awal menggunakan Pandas\n",
        "data_pandas = {\"Nama\": [\"Diva\", \"Fea\"], \"Usia\": [31, 37]}\n",
        "df_pandas = pd.DataFrame(data_pandas)\n",
        "\n",
        "# Mengonversi DataFrame dari Pandas ke PySpark\n",
        "df_spark_from_pandas = spark.createDataFrame(df_pandas)\n",
        "\n",
        "# Gabungkan DataFrame PySpark dan DataFrame Pandas yang telah dikonversi ke PySpark\n",
        "df_combined = df.union(df_spark_from_pandas)\n",
        "\n",
        "# Tampilkan DataFrame gabungan\n",
        "df_combined.show()\n",
        "\n",
        "# Menghitung rata-rata usia dari DataFrame gabungan\n",
        "from pyspark.sql.functions import avg\n",
        "df_combined.groupBy().agg(avg(\"Usia\")).show()\n"
      ]
    },
    {
      "cell_type": "markdown",
      "id": "afdba6be",
      "metadata": {
        "id": "afdba6be"
      },
      "source": [
        "### 6. Konversi Data antara PySpark dan Pandas"
      ]
    },
    {
      "cell_type": "code",
      "execution_count": 10,
      "id": "f863defc",
      "metadata": {
        "id": "f863defc"
      },
      "outputs": [
        {
          "name": "stdout",
          "output_type": "stream",
          "text": [
            "+-----+----+\n",
            "| Nama|Usia|\n",
            "+-----+----+\n",
            "|  Ali|  34|\n",
            "| Budi|  23|\n",
            "|Citra|  29|\n",
            "| Dina|  45|\n",
            "+-----+----+\n",
            "\n"
          ]
        },
        {
          "data": {
            "text/plain": [
              "(    Nama  Usia\n",
              " 0    Ali    34\n",
              " 1   Budi    23\n",
              " 2  Citra    29\n",
              " 3   Dina    45,\n",
              " None)"
            ]
          },
          "execution_count": 10,
          "metadata": {},
          "output_type": "execute_result"
        }
      ],
      "source": [
        "# Mengonversi DataFrame dari PySpark ke Pandas\n",
        "df_pandas_from_spark = df.toPandas()\n",
        "\n",
        "# Mengonversi DataFrame dari Pandas ke PySpark\n",
        "df_spark_from_pandas = spark.createDataFrame(df_pandas)\n",
        "\n",
        "# Menampilkan DataFrame hasil konversi\n",
        "df_pandas_from_spark, df_spark_from_pandas.show()\n"
      ]
    },
    {
      "cell_type": "markdown",
      "id": "65adbe71",
      "metadata": {
        "id": "65adbe71"
      },
      "source": [
        "- **Tugas 6**: Gabungkan data dari PySpark dan Pandas, lalu lakukan operasi statistik seperti menghitung nilai maksimum usia."
      ]
    },
    {
      "cell_type": "code",
      "execution_count": 29,
      "id": "3b31b938",
      "metadata": {},
      "outputs": [
        {
          "name": "stdout",
          "output_type": "stream",
          "text": [
            "+-----+----+\n",
            "| Nama|Usia|\n",
            "+-----+----+\n",
            "|  Ali|  34|\n",
            "| Budi|  23|\n",
            "|Citra|  29|\n",
            "| Dina|  45|\n",
            "| Diva|  31|\n",
            "|  Fea|  37|\n",
            "| Tero|  56|\n",
            "| Zaky|  47|\n",
            "|Faras|  11|\n",
            "+-----+----+\n",
            "\n",
            "Nilai maksimum usia: 56\n"
          ]
        },
        {
          "data": {
            "image/png": "[encoded data removed]",
            "text/plain": [
              "<Figure size 640x480 with 1 Axes>"
            ]
          },
          "metadata": {},
          "output_type": "display_data"
        }
      ],
      "source": [
        "import pandas as pd\n",
        "from pyspark.sql import SparkSession\n",
        "\n",
        "# Inisialisasi SparkSession\n",
        "spark = SparkSession.builder.appName(\"BigDataPractice\").getOrCreate()\n",
        "\n",
        "# Data awal menggunakan PySpark\n",
        "data = [(\"Ali\", 34), (\"Budi\", 23), (\"Citra\", 29), (\"Dina\", 45)]\n",
        "columns = [\"Nama\", \"Usia\"]\n",
        "df = spark.createDataFrame(data, columns)\n",
        "\n",
        "# Data awal menggunakan Pandas\n",
        "data_pandas = {\"Nama\": [\"Diva\", \"Fea\",\"Tero\", \"Zaky\",\"Faras\"], \"Usia\": [31, 37,56,47,11]}\n",
        "df_pandas = pd.DataFrame(data_pandas)\n",
        "\n",
        "# Mengonversi DataFrame dari Pandas ke PySpark\n",
        "df_spark_from_pandas = spark.createDataFrame(df_pandas)\n",
        "\n",
        "# Gabungkan DataFrame PySpark dan DataFrame Pandas yang telah dikonversi ke PySpark\n",
        "df_combined = df.union(df_spark_from_pandas)\n",
        "\n",
        "# Tampilkan DataFrame gabungan\n",
        "df_combined.show()\n",
        "#\n",
        "max_age = df_combined.agg({\"Usia\": \"max\"}).collect()[0][0]\n",
        "print(f\"Nilai maksimum usia: {max_age}\")\n",
        "\n",
        "#\n",
        "import matplotlib.pyplot as plt\n",
        "df_pandas['Usia'].plot(kind='bar')\n",
        "plt.show()\n",
        "\n"
      ]
    }
  ],
  "metadata": {
    "colab": {
      "provenance": []
    },
    "kernelspec": {
      "display_name": "Python 3 (ipykernel)",
      "language": "python",
      "name": "python3"
    },
    "language_info": {
      "codemirror_mode": {
        "name": "ipython",
        "version": 3
      },
      "file_extension": ".py",
      "mimetype": "text/x-python",
      "name": "python",
      "nbconvert_exporter": "python",
      "pygments_lexer": "ipython3",
      "version": "3.10.14"
    }
  },
  "nbformat": 4,
  "nbformat_minor": 5
}
